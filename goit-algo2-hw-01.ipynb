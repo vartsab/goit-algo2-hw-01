{
 "cells": [
  {
   "cell_type": "code",
   "execution_count": 1,
   "id": "b6794504",
   "metadata": {},
   "outputs": [],
   "source": [
    "from typing import List, Tuple\n",
    "import random"
   ]
  },
  {
   "cell_type": "markdown",
   "id": "8a6fcc0c",
   "metadata": {},
   "source": [
    "## Крок 1. Реалізація рекурсивної функції `min_max_divide_conquer`\n",
    "Функція приймає масив чисел довільної довжини та повертає кортеж  \n",
    "*(мінімум, максимум)*, використовуючи стратегію **«розділяй і володарюй»**.\n",
    " \n",
    " * **Часова складність**: `O(n)` — кожен елемент переглядається рівно один раз.  \n",
    " * **Додаткова пам'ять**: `O(log n)` — глибина рекурсії при поділі масиву навпіл."
   ]
  },
  {
   "cell_type": "code",
   "execution_count": null,
   "id": "c85bdc34",
   "metadata": {},
   "outputs": [],
   "source": [
    "def min_max_divide_conquer(arr: List[float]) -> Tuple[float, float]:\n",
    "    \"\"\"\n",
    "    Повертає (min, max) для масиву `arr`, використовуючи рекурсивний\n",
    "    підхід «розділяй і володарюй».\n",
    "    \n",
    "    Parameters\n",
    "    ----------\n",
    "    arr : List[float]\n",
    "        Вхідний масив довільної довжини (>0).\n",
    "    \n",
    "    Returns\n",
    "    -------\n",
    "    Tuple[float, float]\n",
    "        Мінімальне та максимальне значення у масиві.\n",
    "    \n",
    "    Raises\n",
    "    ------\n",
    "    ValueError\n",
    "        Якщо масив порожній.\n",
    "    \"\"\"\n",
    "    if not arr:\n",
    "        raise ValueError(\"Array must contain at least one element\")\n",
    "    \n",
    "    # Базовий випадок 1: один елемент\n",
    "    if len(arr) == 1:\n",
    "        return arr[0], arr[0]\n",
    "    \n",
    "    # Базовий випадок 2: два елементи - одна пряма перевірка\n",
    "    if len(arr) == 2:\n",
    "        a, b = arr\n",
    "        return (a, b) if a < b else (b, a)\n",
    "    \n",
    "    # Рекурсивний випадок: поділяємо масив навпіл\n",
    "    mid = len(arr) // 2\n",
    "    left_min, left_max = min_max_divide_conquer(arr[:mid])\n",
    "    right_min, right_max = min_max_divide_conquer(arr[mid:])\n",
    "    \n",
    "    # Об'єднуємо результати підмасивів\n",
    "    overall_min = left_min if left_min < right_min else right_min\n",
    "    overall_max = left_max if left_max > right_max else right_max\n",
    "    return overall_min, overall_max"
   ]
  },
  {
   "cell_type": "markdown",
   "id": "644caa5c",
   "metadata": {},
   "source": [
    "## Крок 2. Демонстрація роботи на випадковому наборі даних\n",
    "Створимо масив випадкових чисел та перевіримо, що функція\n",
    "повертає правильні мінімум і максимум."
   ]
  },
  {
   "cell_type": "code",
   "execution_count": 24,
   "id": "0aec74c1",
   "metadata": {},
   "outputs": [
    {
     "name": "stdout",
     "output_type": "stream",
     "text": [
      "15-елементний масив: [63, -72, -94, 89, -30, -38, -43, -65, 88, -74, 73, 89, 39, -78, 51]\n",
      "(мінімум, максимум): (-94, 89) \n",
      "\n",
      " 1-елементний масив: [7]\n",
      "(мінімум, максимум): (7, 7) \n",
      "\n",
      " 2-елементний масив: [42, -3]\n",
      "(мінімум, максимум): (-3, 42)\n"
     ]
    }
   ],
   "source": [
    "# 1. Базовий випадок\n",
    "random.seed(42)\n",
    "sample = [random.randint(-100, 100) for _ in range(15)]\n",
    "print(f\"15-елементний масив: {sample}\\n(мінімум, максимум):\", min_max_divide_conquer(sample),\"\\n\")\n",
    "\n",
    "# 2. Масив із 1-м елементом\n",
    "one_el = [7]\n",
    "print(f\" 1-елементний масив: {one_el}\\n(мінімум, максимум):\", min_max_divide_conquer(one_el),\"\\n\")\n",
    "\n",
    "# 3. Масив із 2-ма елементами\n",
    "two_el = [42, -3]\n",
    "print(f\" 2-елементний масив: {two_el}\\n(мінімум, максимум):\", min_max_divide_conquer(two_el))"
   ]
  }
 ],
 "metadata": {
  "kernelspec": {
   "display_name": "Python 3",
   "language": "python",
   "name": "python3"
  },
  "language_info": {
   "codemirror_mode": {
    "name": "ipython",
    "version": 3
   },
   "file_extension": ".py",
   "mimetype": "text/x-python",
   "name": "python",
   "nbconvert_exporter": "python",
   "pygments_lexer": "ipython3",
   "version": "3.12.10"
  }
 },
 "nbformat": 4,
 "nbformat_minor": 5
}
